{
 "cells": [
  {
   "cell_type": "code",
   "execution_count": 1,
   "id": "10edb258",
   "metadata": {
    "_cell_guid": "b1076dfc-b9ad-4769-8c92-a6c4dae69d19",
    "_uuid": "8f2839f25d086af736a60e9eeb907d3b93b6e0e5",
    "execution": {
     "iopub.execute_input": "2025-04-30T05:17:11.579821Z",
     "iopub.status.busy": "2025-04-30T05:17:11.579477Z",
     "iopub.status.idle": "2025-04-30T05:17:13.594043Z",
     "shell.execute_reply": "2025-04-30T05:17:13.593033Z"
    },
    "papermill": {
     "duration": 2.021529,
     "end_time": "2025-04-30T05:17:13.595663",
     "exception": false,
     "start_time": "2025-04-30T05:17:11.574134",
     "status": "completed"
    },
    "tags": []
   },
   "outputs": [
    {
     "name": "stdout",
     "output_type": "stream",
     "text": [
      "/kaggle/input/nlp-getting-started/sample_submission.csv\n",
      "/kaggle/input/nlp-getting-started/train.csv\n",
      "/kaggle/input/nlp-getting-started/test.csv\n"
     ]
    }
   ],
   "source": [
    "# This Python 3 environment comes with many helpful analytics libraries installed\n",
    "# It is defined by the kaggle/python Docker image: https://github.com/kaggle/docker-python\n",
    "# For example, here's several helpful packages to load\n",
    "\n",
    "import numpy as np # linear algebra\n",
    "import pandas as pd # data processing, CSV file I/O (e.g. pd.read_csv)\n",
    "\n",
    "# Input data files are available in the read-only \"../input/\" directory\n",
    "# For example, running this (by clicking run or pressing Shift+Enter) will list all files under the input directory\n",
    "\n",
    "import os\n",
    "for dirname, _, filenames in os.walk('/kaggle/input'):\n",
    "    for filename in filenames:\n",
    "        print(os.path.join(dirname, filename))\n",
    "\n",
    "# You can write up to 20GB to the current directory (/kaggle/working/) that gets preserved as output when you create a version using \"Save & Run All\" \n",
    "# You can also write temporary files to /kaggle/temp/, but they won't be saved outside of the current session"
   ]
  },
  {
   "cell_type": "code",
   "execution_count": 2,
   "id": "f1049b60",
   "metadata": {
    "execution": {
     "iopub.execute_input": "2025-04-30T05:17:13.605428Z",
     "iopub.status.busy": "2025-04-30T05:17:13.604296Z",
     "iopub.status.idle": "2025-04-30T05:17:16.227088Z",
     "shell.execute_reply": "2025-04-30T05:17:16.226109Z"
    },
    "papermill": {
     "duration": 2.629147,
     "end_time": "2025-04-30T05:17:16.228803",
     "exception": false,
     "start_time": "2025-04-30T05:17:13.599656",
     "status": "completed"
    },
    "tags": []
   },
   "outputs": [],
   "source": [
    "import matplotlib.pyplot as plt\n",
    "import seaborn as sns\n",
    "\n",
    "from sklearn.feature_extraction.text import TfidfVectorizer\n",
    "from sklearn.linear_model import LogisticRegression\n",
    "from sklearn.metrics import classification_report, confusion_matrix"
   ]
  },
  {
   "cell_type": "code",
   "execution_count": 3,
   "id": "66fa0c81",
   "metadata": {
    "execution": {
     "iopub.execute_input": "2025-04-30T05:17:16.237603Z",
     "iopub.status.busy": "2025-04-30T05:17:16.237114Z",
     "iopub.status.idle": "2025-04-30T05:17:16.325212Z",
     "shell.execute_reply": "2025-04-30T05:17:16.324322Z"
    },
    "papermill": {
     "duration": 0.094155,
     "end_time": "2025-04-30T05:17:16.326803",
     "exception": false,
     "start_time": "2025-04-30T05:17:16.232648",
     "status": "completed"
    },
    "tags": []
   },
   "outputs": [],
   "source": [
    "train = pd.read_csv(\"/kaggle/input/nlp-getting-started/train.csv\")\n",
    "test = pd.read_csv(\"/kaggle/input/nlp-getting-started/test.csv\")\n",
    "submission = pd.read_csv(\"/kaggle/input/nlp-getting-started/sample_submission.csv\")"
   ]
  },
  {
   "cell_type": "code",
   "execution_count": 4,
   "id": "a7328c92",
   "metadata": {
    "execution": {
     "iopub.execute_input": "2025-04-30T05:17:16.335840Z",
     "iopub.status.busy": "2025-04-30T05:17:16.335069Z",
     "iopub.status.idle": "2025-04-30T05:17:16.352568Z",
     "shell.execute_reply": "2025-04-30T05:17:16.351733Z"
    },
    "papermill": {
     "duration": 0.023588,
     "end_time": "2025-04-30T05:17:16.354142",
     "exception": false,
     "start_time": "2025-04-30T05:17:16.330554",
     "status": "completed"
    },
    "tags": []
   },
   "outputs": [
    {
     "data": {
      "text/plain": [
       "'What a goooooooaaaaaal!!!!!!'"
      ]
     },
     "execution_count": 4,
     "metadata": {},
     "output_type": "execute_result"
    }
   ],
   "source": [
    "train[train[\"target\"]==0][\"text\"].values[4]"
   ]
  },
  {
   "cell_type": "code",
   "execution_count": 5,
   "id": "9cf352a2",
   "metadata": {
    "execution": {
     "iopub.execute_input": "2025-04-30T05:17:16.362671Z",
     "iopub.status.busy": "2025-04-30T05:17:16.362388Z",
     "iopub.status.idle": "2025-04-30T05:17:16.369742Z",
     "shell.execute_reply": "2025-04-30T05:17:16.369016Z"
    },
    "papermill": {
     "duration": 0.013315,
     "end_time": "2025-04-30T05:17:16.371222",
     "exception": false,
     "start_time": "2025-04-30T05:17:16.357907",
     "status": "completed"
    },
    "tags": []
   },
   "outputs": [
    {
     "data": {
      "text/plain": [
       "'Just got sent this photo from Ruby #Alaska as smoke from #wildfires pours into a school '"
      ]
     },
     "execution_count": 5,
     "metadata": {},
     "output_type": "execute_result"
    }
   ],
   "source": [
    "train[train[\"target\"]==1][\"text\"].values[4]"
   ]
  },
  {
   "cell_type": "code",
   "execution_count": 6,
   "id": "8dd9c833",
   "metadata": {
    "execution": {
     "iopub.execute_input": "2025-04-30T05:17:16.379766Z",
     "iopub.status.busy": "2025-04-30T05:17:16.379443Z",
     "iopub.status.idle": "2025-04-30T05:17:16.403362Z",
     "shell.execute_reply": "2025-04-30T05:17:16.402409Z"
    },
    "papermill": {
     "duration": 0.029998,
     "end_time": "2025-04-30T05:17:16.404920",
     "exception": false,
     "start_time": "2025-04-30T05:17:16.374922",
     "status": "completed"
    },
    "tags": []
   },
   "outputs": [
    {
     "data": {
      "text/html": [
       "<div>\n",
       "<style scoped>\n",
       "    .dataframe tbody tr th:only-of-type {\n",
       "        vertical-align: middle;\n",
       "    }\n",
       "\n",
       "    .dataframe tbody tr th {\n",
       "        vertical-align: top;\n",
       "    }\n",
       "\n",
       "    .dataframe thead th {\n",
       "        text-align: right;\n",
       "    }\n",
       "</style>\n",
       "<table border=\"1\" class=\"dataframe\">\n",
       "  <thead>\n",
       "    <tr style=\"text-align: right;\">\n",
       "      <th></th>\n",
       "      <th>id</th>\n",
       "      <th>keyword</th>\n",
       "      <th>location</th>\n",
       "      <th>text</th>\n",
       "      <th>target</th>\n",
       "    </tr>\n",
       "  </thead>\n",
       "  <tbody>\n",
       "    <tr>\n",
       "      <th>0</th>\n",
       "      <td>1</td>\n",
       "      <td>NaN</td>\n",
       "      <td>NaN</td>\n",
       "      <td>Our Deeds are the Reason of this #earthquake M...</td>\n",
       "      <td>1</td>\n",
       "    </tr>\n",
       "    <tr>\n",
       "      <th>1</th>\n",
       "      <td>4</td>\n",
       "      <td>NaN</td>\n",
       "      <td>NaN</td>\n",
       "      <td>Forest fire near La Ronge Sask. Canada</td>\n",
       "      <td>1</td>\n",
       "    </tr>\n",
       "    <tr>\n",
       "      <th>2</th>\n",
       "      <td>5</td>\n",
       "      <td>NaN</td>\n",
       "      <td>NaN</td>\n",
       "      <td>All residents asked to 'shelter in place' are ...</td>\n",
       "      <td>1</td>\n",
       "    </tr>\n",
       "    <tr>\n",
       "      <th>3</th>\n",
       "      <td>6</td>\n",
       "      <td>NaN</td>\n",
       "      <td>NaN</td>\n",
       "      <td>13,000 people receive #wildfires evacuation or...</td>\n",
       "      <td>1</td>\n",
       "    </tr>\n",
       "    <tr>\n",
       "      <th>4</th>\n",
       "      <td>7</td>\n",
       "      <td>NaN</td>\n",
       "      <td>NaN</td>\n",
       "      <td>Just got sent this photo from Ruby #Alaska as ...</td>\n",
       "      <td>1</td>\n",
       "    </tr>\n",
       "    <tr>\n",
       "      <th>...</th>\n",
       "      <td>...</td>\n",
       "      <td>...</td>\n",
       "      <td>...</td>\n",
       "      <td>...</td>\n",
       "      <td>...</td>\n",
       "    </tr>\n",
       "    <tr>\n",
       "      <th>7608</th>\n",
       "      <td>10869</td>\n",
       "      <td>NaN</td>\n",
       "      <td>NaN</td>\n",
       "      <td>Two giant cranes holding a bridge collapse int...</td>\n",
       "      <td>1</td>\n",
       "    </tr>\n",
       "    <tr>\n",
       "      <th>7609</th>\n",
       "      <td>10870</td>\n",
       "      <td>NaN</td>\n",
       "      <td>NaN</td>\n",
       "      <td>@aria_ahrary @TheTawniest The out of control w...</td>\n",
       "      <td>1</td>\n",
       "    </tr>\n",
       "    <tr>\n",
       "      <th>7610</th>\n",
       "      <td>10871</td>\n",
       "      <td>NaN</td>\n",
       "      <td>NaN</td>\n",
       "      <td>M1.94 [01:04 UTC]?5km S of Volcano Hawaii. htt...</td>\n",
       "      <td>1</td>\n",
       "    </tr>\n",
       "    <tr>\n",
       "      <th>7611</th>\n",
       "      <td>10872</td>\n",
       "      <td>NaN</td>\n",
       "      <td>NaN</td>\n",
       "      <td>Police investigating after an e-bike collided ...</td>\n",
       "      <td>1</td>\n",
       "    </tr>\n",
       "    <tr>\n",
       "      <th>7612</th>\n",
       "      <td>10873</td>\n",
       "      <td>NaN</td>\n",
       "      <td>NaN</td>\n",
       "      <td>The Latest: More Homes Razed by Northern Calif...</td>\n",
       "      <td>1</td>\n",
       "    </tr>\n",
       "  </tbody>\n",
       "</table>\n",
       "<p>7613 rows × 5 columns</p>\n",
       "</div>"
      ],
      "text/plain": [
       "         id keyword location  \\\n",
       "0         1     NaN      NaN   \n",
       "1         4     NaN      NaN   \n",
       "2         5     NaN      NaN   \n",
       "3         6     NaN      NaN   \n",
       "4         7     NaN      NaN   \n",
       "...     ...     ...      ...   \n",
       "7608  10869     NaN      NaN   \n",
       "7609  10870     NaN      NaN   \n",
       "7610  10871     NaN      NaN   \n",
       "7611  10872     NaN      NaN   \n",
       "7612  10873     NaN      NaN   \n",
       "\n",
       "                                                   text  target  \n",
       "0     Our Deeds are the Reason of this #earthquake M...       1  \n",
       "1                Forest fire near La Ronge Sask. Canada       1  \n",
       "2     All residents asked to 'shelter in place' are ...       1  \n",
       "3     13,000 people receive #wildfires evacuation or...       1  \n",
       "4     Just got sent this photo from Ruby #Alaska as ...       1  \n",
       "...                                                 ...     ...  \n",
       "7608  Two giant cranes holding a bridge collapse int...       1  \n",
       "7609  @aria_ahrary @TheTawniest The out of control w...       1  \n",
       "7610  M1.94 [01:04 UTC]?5km S of Volcano Hawaii. htt...       1  \n",
       "7611  Police investigating after an e-bike collided ...       1  \n",
       "7612  The Latest: More Homes Razed by Northern Calif...       1  \n",
       "\n",
       "[7613 rows x 5 columns]"
      ]
     },
     "execution_count": 6,
     "metadata": {},
     "output_type": "execute_result"
    }
   ],
   "source": [
    "train"
   ]
  },
  {
   "cell_type": "code",
   "execution_count": 7,
   "id": "32c53d0f",
   "metadata": {
    "execution": {
     "iopub.execute_input": "2025-04-30T05:17:16.414452Z",
     "iopub.status.busy": "2025-04-30T05:17:16.414129Z",
     "iopub.status.idle": "2025-04-30T05:17:16.422306Z",
     "shell.execute_reply": "2025-04-30T05:17:16.421427Z"
    },
    "papermill": {
     "duration": 0.014462,
     "end_time": "2025-04-30T05:17:16.423723",
     "exception": false,
     "start_time": "2025-04-30T05:17:16.409261",
     "status": "completed"
    },
    "tags": []
   },
   "outputs": [
    {
     "data": {
      "text/plain": [
       "id             0\n",
       "keyword       26\n",
       "location    1105\n",
       "text           0\n",
       "dtype: int64"
      ]
     },
     "execution_count": 7,
     "metadata": {},
     "output_type": "execute_result"
    }
   ],
   "source": [
    "test.isnull().sum()"
   ]
  },
  {
   "cell_type": "code",
   "execution_count": 8,
   "id": "09520a3a",
   "metadata": {
    "execution": {
     "iopub.execute_input": "2025-04-30T05:17:16.433035Z",
     "iopub.status.busy": "2025-04-30T05:17:16.432669Z",
     "iopub.status.idle": "2025-04-30T05:17:16.440428Z",
     "shell.execute_reply": "2025-04-30T05:17:16.439660Z"
    },
    "papermill": {
     "duration": 0.01393,
     "end_time": "2025-04-30T05:17:16.441920",
     "exception": false,
     "start_time": "2025-04-30T05:17:16.427990",
     "status": "completed"
    },
    "tags": []
   },
   "outputs": [],
   "source": [
    "train['keyword'] = train['keyword'].fillna(\"none\")\n",
    "test['keyword'] = test['keyword'].fillna(\"none\")"
   ]
  },
  {
   "cell_type": "code",
   "execution_count": 9,
   "id": "dc96cc97",
   "metadata": {
    "execution": {
     "iopub.execute_input": "2025-04-30T05:17:16.451613Z",
     "iopub.status.busy": "2025-04-30T05:17:16.450894Z",
     "iopub.status.idle": "2025-04-30T05:17:16.462700Z",
     "shell.execute_reply": "2025-04-30T05:17:16.461878Z"
    },
    "papermill": {
     "duration": 0.018022,
     "end_time": "2025-04-30T05:17:16.464183",
     "exception": false,
     "start_time": "2025-04-30T05:17:16.446161",
     "status": "completed"
    },
    "tags": []
   },
   "outputs": [],
   "source": [
    "train['combined_text'] = train['text'] + \" \" + train['keyword']\n",
    "test['combined_text'] = test['text'] + \" \" + test['keyword']"
   ]
  },
  {
   "cell_type": "code",
   "execution_count": 10,
   "id": "237863c3",
   "metadata": {
    "execution": {
     "iopub.execute_input": "2025-04-30T05:17:16.473654Z",
     "iopub.status.busy": "2025-04-30T05:17:16.473072Z",
     "iopub.status.idle": "2025-04-30T05:17:16.583787Z",
     "shell.execute_reply": "2025-04-30T05:17:16.582962Z"
    },
    "papermill": {
     "duration": 0.117111,
     "end_time": "2025-04-30T05:17:16.585373",
     "exception": false,
     "start_time": "2025-04-30T05:17:16.468262",
     "status": "completed"
    },
    "tags": []
   },
   "outputs": [],
   "source": [
    "def clean_text(text):\n",
    "    if not isinstance(text, str):\n",
    "        return \"\"  # 문자열이 아니면 빈 문자열로 처리\n",
    "    text = text.lower()\n",
    "    text = text.replace(\"http\\S+\", \"\")  # 정규표현식 썼지만 이건 효과 없을 수도 있어\n",
    "    text = ''.join(char for char in text if char.isalnum() or char.isspace())\n",
    "    return text\n",
    "\n",
    "train[\"clean_text\"] = train[\"combined_text\"].apply(clean_text)\n",
    "test[\"clean_text\"] = test[\"combined_text\"].apply(clean_text)"
   ]
  },
  {
   "cell_type": "code",
   "execution_count": 11,
   "id": "26e6cc60",
   "metadata": {
    "execution": {
     "iopub.execute_input": "2025-04-30T05:17:16.595294Z",
     "iopub.status.busy": "2025-04-30T05:17:16.594856Z",
     "iopub.status.idle": "2025-04-30T05:17:16.602299Z",
     "shell.execute_reply": "2025-04-30T05:17:16.601373Z"
    },
    "papermill": {
     "duration": 0.014159,
     "end_time": "2025-04-30T05:17:16.603819",
     "exception": false,
     "start_time": "2025-04-30T05:17:16.589660",
     "status": "completed"
    },
    "tags": []
   },
   "outputs": [
    {
     "data": {
      "text/plain": [
       "0       our deeds are the reason of this earthquake ma...\n",
       "1              forest fire near la ronge sask canada none\n",
       "2       all residents asked to shelter in place are be...\n",
       "3       13000 people receive wildfires evacuation orde...\n",
       "4       just got sent this photo from ruby alaska as s...\n",
       "                              ...                        \n",
       "7608    two giant cranes holding a bridge collapse int...\n",
       "7609    ariaahrary thetawniest the out of control wild...\n",
       "7610    m194 0104 utc5km s of volcano hawaii httptcozd...\n",
       "7611    police investigating after an ebike collided w...\n",
       "7612    the latest more homes razed by northern califo...\n",
       "Name: clean_text, Length: 7613, dtype: object"
      ]
     },
     "execution_count": 11,
     "metadata": {},
     "output_type": "execute_result"
    }
   ],
   "source": [
    "train[\"clean_text\"]"
   ]
  },
  {
   "cell_type": "code",
   "execution_count": 12,
   "id": "a60e210f",
   "metadata": {
    "execution": {
     "iopub.execute_input": "2025-04-30T05:17:16.613297Z",
     "iopub.status.busy": "2025-04-30T05:17:16.612970Z",
     "iopub.status.idle": "2025-04-30T05:17:16.857644Z",
     "shell.execute_reply": "2025-04-30T05:17:16.856776Z"
    },
    "papermill": {
     "duration": 0.251366,
     "end_time": "2025-04-30T05:17:16.859407",
     "exception": false,
     "start_time": "2025-04-30T05:17:16.608041",
     "status": "completed"
    },
    "tags": []
   },
   "outputs": [],
   "source": [
    "vectorizer = TfidfVectorizer(stop_words='english', max_features=10000)\n",
    "X = vectorizer.fit_transform(train['clean_text'])\n",
    "X_test = vectorizer.transform(test['clean_text'])"
   ]
  },
  {
   "cell_type": "code",
   "execution_count": 13,
   "id": "95279021",
   "metadata": {
    "execution": {
     "iopub.execute_input": "2025-04-30T05:17:16.869239Z",
     "iopub.status.busy": "2025-04-30T05:17:16.868670Z",
     "iopub.status.idle": "2025-04-30T05:17:16.873341Z",
     "shell.execute_reply": "2025-04-30T05:17:16.872388Z"
    },
    "papermill": {
     "duration": 0.011203,
     "end_time": "2025-04-30T05:17:16.874882",
     "exception": false,
     "start_time": "2025-04-30T05:17:16.863679",
     "status": "completed"
    },
    "tags": []
   },
   "outputs": [],
   "source": [
    "y = train['target']"
   ]
  },
  {
   "cell_type": "code",
   "execution_count": 14,
   "id": "335223d9",
   "metadata": {
    "execution": {
     "iopub.execute_input": "2025-04-30T05:17:16.884520Z",
     "iopub.status.busy": "2025-04-30T05:17:16.884181Z",
     "iopub.status.idle": "2025-04-30T05:17:17.415597Z",
     "shell.execute_reply": "2025-04-30T05:17:17.414411Z"
    },
    "papermill": {
     "duration": 0.53988,
     "end_time": "2025-04-30T05:17:17.419030",
     "exception": false,
     "start_time": "2025-04-30T05:17:16.879150",
     "status": "completed"
    },
    "tags": []
   },
   "outputs": [
    {
     "data": {
      "text/html": [
       "<style>#sk-container-id-1 {color: black;background-color: white;}#sk-container-id-1 pre{padding: 0;}#sk-container-id-1 div.sk-toggleable {background-color: white;}#sk-container-id-1 label.sk-toggleable__label {cursor: pointer;display: block;width: 100%;margin-bottom: 0;padding: 0.3em;box-sizing: border-box;text-align: center;}#sk-container-id-1 label.sk-toggleable__label-arrow:before {content: \"▸\";float: left;margin-right: 0.25em;color: #696969;}#sk-container-id-1 label.sk-toggleable__label-arrow:hover:before {color: black;}#sk-container-id-1 div.sk-estimator:hover label.sk-toggleable__label-arrow:before {color: black;}#sk-container-id-1 div.sk-toggleable__content {max-height: 0;max-width: 0;overflow: hidden;text-align: left;background-color: #f0f8ff;}#sk-container-id-1 div.sk-toggleable__content pre {margin: 0.2em;color: black;border-radius: 0.25em;background-color: #f0f8ff;}#sk-container-id-1 input.sk-toggleable__control:checked~div.sk-toggleable__content {max-height: 200px;max-width: 100%;overflow: auto;}#sk-container-id-1 input.sk-toggleable__control:checked~label.sk-toggleable__label-arrow:before {content: \"▾\";}#sk-container-id-1 div.sk-estimator input.sk-toggleable__control:checked~label.sk-toggleable__label {background-color: #d4ebff;}#sk-container-id-1 div.sk-label input.sk-toggleable__control:checked~label.sk-toggleable__label {background-color: #d4ebff;}#sk-container-id-1 input.sk-hidden--visually {border: 0;clip: rect(1px 1px 1px 1px);clip: rect(1px, 1px, 1px, 1px);height: 1px;margin: -1px;overflow: hidden;padding: 0;position: absolute;width: 1px;}#sk-container-id-1 div.sk-estimator {font-family: monospace;background-color: #f0f8ff;border: 1px dotted black;border-radius: 0.25em;box-sizing: border-box;margin-bottom: 0.5em;}#sk-container-id-1 div.sk-estimator:hover {background-color: #d4ebff;}#sk-container-id-1 div.sk-parallel-item::after {content: \"\";width: 100%;border-bottom: 1px solid gray;flex-grow: 1;}#sk-container-id-1 div.sk-label:hover label.sk-toggleable__label {background-color: #d4ebff;}#sk-container-id-1 div.sk-serial::before {content: \"\";position: absolute;border-left: 1px solid gray;box-sizing: border-box;top: 0;bottom: 0;left: 50%;z-index: 0;}#sk-container-id-1 div.sk-serial {display: flex;flex-direction: column;align-items: center;background-color: white;padding-right: 0.2em;padding-left: 0.2em;position: relative;}#sk-container-id-1 div.sk-item {position: relative;z-index: 1;}#sk-container-id-1 div.sk-parallel {display: flex;align-items: stretch;justify-content: center;background-color: white;position: relative;}#sk-container-id-1 div.sk-item::before, #sk-container-id-1 div.sk-parallel-item::before {content: \"\";position: absolute;border-left: 1px solid gray;box-sizing: border-box;top: 0;bottom: 0;left: 50%;z-index: -1;}#sk-container-id-1 div.sk-parallel-item {display: flex;flex-direction: column;z-index: 1;position: relative;background-color: white;}#sk-container-id-1 div.sk-parallel-item:first-child::after {align-self: flex-end;width: 50%;}#sk-container-id-1 div.sk-parallel-item:last-child::after {align-self: flex-start;width: 50%;}#sk-container-id-1 div.sk-parallel-item:only-child::after {width: 0;}#sk-container-id-1 div.sk-dashed-wrapped {border: 1px dashed gray;margin: 0 0.4em 0.5em 0.4em;box-sizing: border-box;padding-bottom: 0.4em;background-color: white;}#sk-container-id-1 div.sk-label label {font-family: monospace;font-weight: bold;display: inline-block;line-height: 1.2em;}#sk-container-id-1 div.sk-label-container {text-align: center;}#sk-container-id-1 div.sk-container {/* jupyter's `normalize.less` sets `[hidden] { display: none; }` but bootstrap.min.css set `[hidden] { display: none !important; }` so we also need the `!important` here to be able to override the default hidden behavior on the sphinx rendered scikit-learn.org. See: https://github.com/scikit-learn/scikit-learn/issues/21755 */display: inline-block !important;position: relative;}#sk-container-id-1 div.sk-text-repr-fallback {display: none;}</style><div id=\"sk-container-id-1\" class=\"sk-top-container\"><div class=\"sk-text-repr-fallback\"><pre>LogisticRegression(max_iter=1000)</pre><b>In a Jupyter environment, please rerun this cell to show the HTML representation or trust the notebook. <br />On GitHub, the HTML representation is unable to render, please try loading this page with nbviewer.org.</b></div><div class=\"sk-container\" hidden><div class=\"sk-item\"><div class=\"sk-estimator sk-toggleable\"><input class=\"sk-toggleable__control sk-hidden--visually\" id=\"sk-estimator-id-1\" type=\"checkbox\" checked><label for=\"sk-estimator-id-1\" class=\"sk-toggleable__label sk-toggleable__label-arrow\">LogisticRegression</label><div class=\"sk-toggleable__content\"><pre>LogisticRegression(max_iter=1000)</pre></div></div></div></div></div>"
      ],
      "text/plain": [
       "LogisticRegression(max_iter=1000)"
      ]
     },
     "execution_count": 14,
     "metadata": {},
     "output_type": "execute_result"
    }
   ],
   "source": [
    "model = LogisticRegression(max_iter=1000)\n",
    "model.fit(X,y)"
   ]
  },
  {
   "cell_type": "code",
   "execution_count": 15,
   "id": "6d94ba17",
   "metadata": {
    "execution": {
     "iopub.execute_input": "2025-04-30T05:17:17.435168Z",
     "iopub.status.busy": "2025-04-30T05:17:17.434795Z",
     "iopub.status.idle": "2025-04-30T05:17:17.440922Z",
     "shell.execute_reply": "2025-04-30T05:17:17.440138Z"
    },
    "papermill": {
     "duration": 0.016014,
     "end_time": "2025-04-30T05:17:17.442680",
     "exception": false,
     "start_time": "2025-04-30T05:17:17.426666",
     "status": "completed"
    },
    "tags": []
   },
   "outputs": [],
   "source": [
    "y_pred = model.predict(X_test)"
   ]
  },
  {
   "cell_type": "code",
   "execution_count": 16,
   "id": "2ec325b6",
   "metadata": {
    "execution": {
     "iopub.execute_input": "2025-04-30T05:17:17.458031Z",
     "iopub.status.busy": "2025-04-30T05:17:17.457240Z",
     "iopub.status.idle": "2025-04-30T05:17:17.463653Z",
     "shell.execute_reply": "2025-04-30T05:17:17.462926Z"
    },
    "papermill": {
     "duration": 0.01577,
     "end_time": "2025-04-30T05:17:17.465391",
     "exception": false,
     "start_time": "2025-04-30T05:17:17.449621",
     "status": "completed"
    },
    "tags": []
   },
   "outputs": [],
   "source": [
    "submission = pd.DataFrame({\n",
    "    'id': test['id'],\n",
    "    'target': y_pred\n",
    "})"
   ]
  },
  {
   "cell_type": "code",
   "execution_count": 17,
   "id": "8908d031",
   "metadata": {
    "execution": {
     "iopub.execute_input": "2025-04-30T05:17:17.481298Z",
     "iopub.status.busy": "2025-04-30T05:17:17.480324Z",
     "iopub.status.idle": "2025-04-30T05:17:17.497269Z",
     "shell.execute_reply": "2025-04-30T05:17:17.496467Z"
    },
    "papermill": {
     "duration": 0.026963,
     "end_time": "2025-04-30T05:17:17.499070",
     "exception": false,
     "start_time": "2025-04-30T05:17:17.472107",
     "status": "completed"
    },
    "tags": []
   },
   "outputs": [],
   "source": [
    "submission.to_csv(\"submission.csv\", index=False)"
   ]
  }
 ],
 "metadata": {
  "kaggle": {
   "accelerator": "none",
   "dataSources": [
    {
     "databundleVersionId": 869809,
     "sourceId": 17777,
     "sourceType": "competition"
    }
   ],
   "dockerImageVersionId": 31012,
   "isGpuEnabled": false,
   "isInternetEnabled": true,
   "language": "python",
   "sourceType": "notebook"
  },
  "kernelspec": {
   "display_name": "Python 3",
   "language": "python",
   "name": "python3"
  },
  "language_info": {
   "codemirror_mode": {
    "name": "ipython",
    "version": 3
   },
   "file_extension": ".py",
   "mimetype": "text/x-python",
   "name": "python",
   "nbconvert_exporter": "python",
   "pygments_lexer": "ipython3",
   "version": "3.11.11"
  },
  "papermill": {
   "default_parameters": {},
   "duration": 11.657839,
   "end_time": "2025-04-30T05:17:18.226378",
   "environment_variables": {},
   "exception": null,
   "input_path": "__notebook__.ipynb",
   "output_path": "__notebook__.ipynb",
   "parameters": {},
   "start_time": "2025-04-30T05:17:06.568539",
   "version": "2.6.0"
  }
 },
 "nbformat": 4,
 "nbformat_minor": 5
}
