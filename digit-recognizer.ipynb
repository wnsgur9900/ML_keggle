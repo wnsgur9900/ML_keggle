{
 "cells": [
  {
   "cell_type": "code",
   "execution_count": 1,
   "id": "df45dac5",
   "metadata": {
    "_cell_guid": "b1076dfc-b9ad-4769-8c92-a6c4dae69d19",
    "_uuid": "8f2839f25d086af736a60e9eeb907d3b93b6e0e5",
    "execution": {
     "iopub.execute_input": "2025-04-28T03:07:44.245143Z",
     "iopub.status.busy": "2025-04-28T03:07:44.244771Z",
     "iopub.status.idle": "2025-04-28T03:07:46.470480Z",
     "shell.execute_reply": "2025-04-28T03:07:46.469349Z"
    },
    "papermill": {
     "duration": 2.233426,
     "end_time": "2025-04-28T03:07:46.472189",
     "exception": false,
     "start_time": "2025-04-28T03:07:44.238763",
     "status": "completed"
    },
    "tags": []
   },
   "outputs": [
    {
     "name": "stdout",
     "output_type": "stream",
     "text": [
      "/kaggle/input/digit-recognizer/sample_submission.csv\n",
      "/kaggle/input/digit-recognizer/train.csv\n",
      "/kaggle/input/digit-recognizer/test.csv\n",
      "/kaggle/input/mnist-in-csv/mnist_test.csv\n",
      "/kaggle/input/mnist-in-csv/mnist_train.csv\n",
      "/kaggle/input/mnist-data/mnist_test.csv\n",
      "/kaggle/input/mnist-data/mnist_train.csv\n"
     ]
    }
   ],
   "source": [
    "# This Python 3 environment comes with many helpful analytics libraries installed\n",
    "# It is defined by the kaggle/python Docker image: https://github.com/kaggle/docker-python\n",
    "# For example, here's several helpful packages to load\n",
    "\n",
    "import numpy as np # linear algebra\n",
    "import pandas as pd # data processing, CSV file I/O (e.g. pd.read_csv)\n",
    "\n",
    "# Input data files are available in the read-only \"../input/\" directory\n",
    "# For example, running this (by clicking run or pressing Shift+Enter) will list all files under the input directory\n",
    "\n",
    "import os\n",
    "for dirname, _, filenames in os.walk('/kaggle/input'):\n",
    "    for filename in filenames:\n",
    "        print(os.path.join(dirname, filename))\n",
    "\n",
    "# You can write up to 20GB to the current directory (/kaggle/working/) that gets preserved as output when you create a version using \"Save & Run All\" \n",
    "# You can also write temporary files to /kaggle/temp/, but they won't be saved outside of the current session"
   ]
  },
  {
   "cell_type": "code",
   "execution_count": 2,
   "id": "b3bfd73b",
   "metadata": {
    "execution": {
     "iopub.execute_input": "2025-04-28T03:07:46.480686Z",
     "iopub.status.busy": "2025-04-28T03:07:46.480259Z",
     "iopub.status.idle": "2025-04-28T03:07:49.330210Z",
     "shell.execute_reply": "2025-04-28T03:07:49.329006Z"
    },
    "papermill": {
     "duration": 2.855922,
     "end_time": "2025-04-28T03:07:49.331972",
     "exception": false,
     "start_time": "2025-04-28T03:07:46.476050",
     "status": "completed"
    },
    "tags": []
   },
   "outputs": [],
   "source": [
    "import matplotlib.pyplot as plt\n",
    "import seaborn as sns\n",
    "from sklearn.neighbors import KNeighborsClassifier"
   ]
  },
  {
   "cell_type": "code",
   "execution_count": 3,
   "id": "93bf1995",
   "metadata": {
    "execution": {
     "iopub.execute_input": "2025-04-28T03:07:49.340890Z",
     "iopub.status.busy": "2025-04-28T03:07:49.340371Z",
     "iopub.status.idle": "2025-04-28T03:07:49.346043Z",
     "shell.execute_reply": "2025-04-28T03:07:49.344784Z"
    },
    "papermill": {
     "duration": 0.01236,
     "end_time": "2025-04-28T03:07:49.348027",
     "exception": false,
     "start_time": "2025-04-28T03:07:49.335667",
     "status": "completed"
    },
    "tags": []
   },
   "outputs": [],
   "source": [
    "# ignore warnings\n",
    "\n",
    "import warnings\n",
    "warnings.filterwarnings('ignore')"
   ]
  },
  {
   "cell_type": "code",
   "execution_count": 4,
   "id": "2438ffd7",
   "metadata": {
    "execution": {
     "iopub.execute_input": "2025-04-28T03:07:49.356327Z",
     "iopub.status.busy": "2025-04-28T03:07:49.355918Z",
     "iopub.status.idle": "2025-04-28T03:07:55.306634Z",
     "shell.execute_reply": "2025-04-28T03:07:55.305837Z"
    },
    "papermill": {
     "duration": 5.956512,
     "end_time": "2025-04-28T03:07:55.308291",
     "exception": false,
     "start_time": "2025-04-28T03:07:49.351779",
     "status": "completed"
    },
    "tags": []
   },
   "outputs": [],
   "source": [
    "train = pd.read_csv(\"/kaggle/input/digit-recognizer/train.csv\")\n",
    "test = pd.read_csv(\"/kaggle/input/digit-recognizer/test.csv\")"
   ]
  },
  {
   "cell_type": "code",
   "execution_count": 5,
   "id": "bfde9ef7",
   "metadata": {
    "execution": {
     "iopub.execute_input": "2025-04-28T03:07:55.315958Z",
     "iopub.status.busy": "2025-04-28T03:07:55.315603Z",
     "iopub.status.idle": "2025-04-28T03:08:00.786739Z",
     "shell.execute_reply": "2025-04-28T03:08:00.785850Z"
    },
    "papermill": {
     "duration": 5.476998,
     "end_time": "2025-04-28T03:08:00.788457",
     "exception": false,
     "start_time": "2025-04-28T03:07:55.311459",
     "status": "completed"
    },
    "tags": []
   },
   "outputs": [],
   "source": [
    "mnist_train = pd.read_csv(\"/kaggle/input/mnist-data/mnist_train.csv\")\n",
    "mnist_test = pd.read_csv(\"/kaggle/input/mnist-data/mnist_test.csv\")"
   ]
  },
  {
   "cell_type": "code",
   "execution_count": 6,
   "id": "4ab18939",
   "metadata": {
    "execution": {
     "iopub.execute_input": "2025-04-28T03:08:00.799682Z",
     "iopub.status.busy": "2025-04-28T03:08:00.799363Z",
     "iopub.status.idle": "2025-04-28T03:08:00.805144Z",
     "shell.execute_reply": "2025-04-28T03:08:00.804312Z"
    },
    "papermill": {
     "duration": 0.013897,
     "end_time": "2025-04-28T03:08:00.806863",
     "exception": false,
     "start_time": "2025-04-28T03:08:00.792966",
     "status": "completed"
    },
    "tags": []
   },
   "outputs": [],
   "source": [
    "# 컬럼 이름을 pixel0 ~ pixel783 으로 통일\n",
    "mnist_columns = ['label'] + [f'pixel{i}' for i in range(784)]\n",
    "mnist_train.columns = mnist_columns"
   ]
  },
  {
   "cell_type": "code",
   "execution_count": 7,
   "id": "342d4bc8",
   "metadata": {
    "execution": {
     "iopub.execute_input": "2025-04-28T03:08:00.814634Z",
     "iopub.status.busy": "2025-04-28T03:08:00.814328Z",
     "iopub.status.idle": "2025-04-28T03:08:00.818692Z",
     "shell.execute_reply": "2025-04-28T03:08:00.817890Z"
    },
    "papermill": {
     "duration": 0.00987,
     "end_time": "2025-04-28T03:08:00.820154",
     "exception": false,
     "start_time": "2025-04-28T03:08:00.810284",
     "status": "completed"
    },
    "tags": []
   },
   "outputs": [],
   "source": [
    "mnist_test.columns = mnist_columns"
   ]
  },
  {
   "cell_type": "code",
   "execution_count": 8,
   "id": "846a0d16",
   "metadata": {
    "execution": {
     "iopub.execute_input": "2025-04-28T03:08:00.827734Z",
     "iopub.status.busy": "2025-04-28T03:08:00.827394Z",
     "iopub.status.idle": "2025-04-28T03:08:01.150907Z",
     "shell.execute_reply": "2025-04-28T03:08:01.150006Z"
    },
    "papermill": {
     "duration": 0.329399,
     "end_time": "2025-04-28T03:08:01.152754",
     "exception": false,
     "start_time": "2025-04-28T03:08:00.823355",
     "status": "completed"
    },
    "tags": []
   },
   "outputs": [],
   "source": [
    "X = train.drop(columns=['label'])\n",
    "y = train['label']\n",
    "\n",
    "X_mnist = mnist_train.drop(columns=['label'])\n",
    "y_mnist = mnist_train['label']\n",
    "\n",
    "mnist_test_X = mnist_test.drop(columns=['label'])\n",
    "mnist_test_y = mnist_test['label']"
   ]
  },
  {
   "cell_type": "code",
   "execution_count": 9,
   "id": "c0cfcc05",
   "metadata": {
    "execution": {
     "iopub.execute_input": "2025-04-28T03:08:01.160785Z",
     "iopub.status.busy": "2025-04-28T03:08:01.160484Z",
     "iopub.status.idle": "2025-04-28T03:08:01.529282Z",
     "shell.execute_reply": "2025-04-28T03:08:01.528277Z"
    },
    "papermill": {
     "duration": 0.374875,
     "end_time": "2025-04-28T03:08:01.531021",
     "exception": false,
     "start_time": "2025-04-28T03:08:01.156146",
     "status": "completed"
    },
    "tags": []
   },
   "outputs": [],
   "source": [
    "X = pd.concat([X, X_mnist, mnist_test_X], axis=0)\n",
    "y = pd.concat([y, y_mnist, mnist_test_y], axis=0)"
   ]
  },
  {
   "cell_type": "code",
   "execution_count": 10,
   "id": "b26572cf",
   "metadata": {
    "execution": {
     "iopub.execute_input": "2025-04-28T03:08:01.538316Z",
     "iopub.status.busy": "2025-04-28T03:08:01.537982Z",
     "iopub.status.idle": "2025-04-28T03:08:02.009454Z",
     "shell.execute_reply": "2025-04-28T03:08:02.008216Z"
    },
    "papermill": {
     "duration": 0.476845,
     "end_time": "2025-04-28T03:08:02.011047",
     "exception": false,
     "start_time": "2025-04-28T03:08:01.534202",
     "status": "completed"
    },
    "tags": []
   },
   "outputs": [
    {
     "data": {
      "text/html": [
       "<style>#sk-container-id-1 {color: black;background-color: white;}#sk-container-id-1 pre{padding: 0;}#sk-container-id-1 div.sk-toggleable {background-color: white;}#sk-container-id-1 label.sk-toggleable__label {cursor: pointer;display: block;width: 100%;margin-bottom: 0;padding: 0.3em;box-sizing: border-box;text-align: center;}#sk-container-id-1 label.sk-toggleable__label-arrow:before {content: \"▸\";float: left;margin-right: 0.25em;color: #696969;}#sk-container-id-1 label.sk-toggleable__label-arrow:hover:before {color: black;}#sk-container-id-1 div.sk-estimator:hover label.sk-toggleable__label-arrow:before {color: black;}#sk-container-id-1 div.sk-toggleable__content {max-height: 0;max-width: 0;overflow: hidden;text-align: left;background-color: #f0f8ff;}#sk-container-id-1 div.sk-toggleable__content pre {margin: 0.2em;color: black;border-radius: 0.25em;background-color: #f0f8ff;}#sk-container-id-1 input.sk-toggleable__control:checked~div.sk-toggleable__content {max-height: 200px;max-width: 100%;overflow: auto;}#sk-container-id-1 input.sk-toggleable__control:checked~label.sk-toggleable__label-arrow:before {content: \"▾\";}#sk-container-id-1 div.sk-estimator input.sk-toggleable__control:checked~label.sk-toggleable__label {background-color: #d4ebff;}#sk-container-id-1 div.sk-label input.sk-toggleable__control:checked~label.sk-toggleable__label {background-color: #d4ebff;}#sk-container-id-1 input.sk-hidden--visually {border: 0;clip: rect(1px 1px 1px 1px);clip: rect(1px, 1px, 1px, 1px);height: 1px;margin: -1px;overflow: hidden;padding: 0;position: absolute;width: 1px;}#sk-container-id-1 div.sk-estimator {font-family: monospace;background-color: #f0f8ff;border: 1px dotted black;border-radius: 0.25em;box-sizing: border-box;margin-bottom: 0.5em;}#sk-container-id-1 div.sk-estimator:hover {background-color: #d4ebff;}#sk-container-id-1 div.sk-parallel-item::after {content: \"\";width: 100%;border-bottom: 1px solid gray;flex-grow: 1;}#sk-container-id-1 div.sk-label:hover label.sk-toggleable__label {background-color: #d4ebff;}#sk-container-id-1 div.sk-serial::before {content: \"\";position: absolute;border-left: 1px solid gray;box-sizing: border-box;top: 0;bottom: 0;left: 50%;z-index: 0;}#sk-container-id-1 div.sk-serial {display: flex;flex-direction: column;align-items: center;background-color: white;padding-right: 0.2em;padding-left: 0.2em;position: relative;}#sk-container-id-1 div.sk-item {position: relative;z-index: 1;}#sk-container-id-1 div.sk-parallel {display: flex;align-items: stretch;justify-content: center;background-color: white;position: relative;}#sk-container-id-1 div.sk-item::before, #sk-container-id-1 div.sk-parallel-item::before {content: \"\";position: absolute;border-left: 1px solid gray;box-sizing: border-box;top: 0;bottom: 0;left: 50%;z-index: -1;}#sk-container-id-1 div.sk-parallel-item {display: flex;flex-direction: column;z-index: 1;position: relative;background-color: white;}#sk-container-id-1 div.sk-parallel-item:first-child::after {align-self: flex-end;width: 50%;}#sk-container-id-1 div.sk-parallel-item:last-child::after {align-self: flex-start;width: 50%;}#sk-container-id-1 div.sk-parallel-item:only-child::after {width: 0;}#sk-container-id-1 div.sk-dashed-wrapped {border: 1px dashed gray;margin: 0 0.4em 0.5em 0.4em;box-sizing: border-box;padding-bottom: 0.4em;background-color: white;}#sk-container-id-1 div.sk-label label {font-family: monospace;font-weight: bold;display: inline-block;line-height: 1.2em;}#sk-container-id-1 div.sk-label-container {text-align: center;}#sk-container-id-1 div.sk-container {/* jupyter's `normalize.less` sets `[hidden] { display: none; }` but bootstrap.min.css set `[hidden] { display: none !important; }` so we also need the `!important` here to be able to override the default hidden behavior on the sphinx rendered scikit-learn.org. See: https://github.com/scikit-learn/scikit-learn/issues/21755 */display: inline-block !important;position: relative;}#sk-container-id-1 div.sk-text-repr-fallback {display: none;}</style><div id=\"sk-container-id-1\" class=\"sk-top-container\"><div class=\"sk-text-repr-fallback\"><pre>KNeighborsClassifier(n_jobs=-1, n_neighbors=3)</pre><b>In a Jupyter environment, please rerun this cell to show the HTML representation or trust the notebook. <br />On GitHub, the HTML representation is unable to render, please try loading this page with nbviewer.org.</b></div><div class=\"sk-container\" hidden><div class=\"sk-item\"><div class=\"sk-estimator sk-toggleable\"><input class=\"sk-toggleable__control sk-hidden--visually\" id=\"sk-estimator-id-1\" type=\"checkbox\" checked><label for=\"sk-estimator-id-1\" class=\"sk-toggleable__label sk-toggleable__label-arrow\">KNeighborsClassifier</label><div class=\"sk-toggleable__content\"><pre>KNeighborsClassifier(n_jobs=-1, n_neighbors=3)</pre></div></div></div></div></div>"
      ],
      "text/plain": [
       "KNeighborsClassifier(n_jobs=-1, n_neighbors=3)"
      ]
     },
     "execution_count": 10,
     "metadata": {},
     "output_type": "execute_result"
    }
   ],
   "source": [
    "model = KNeighborsClassifier(n_neighbors=3, n_jobs=-1)\n",
    "model.fit(X, y)"
   ]
  },
  {
   "cell_type": "code",
   "execution_count": 11,
   "id": "7dd0dcf8",
   "metadata": {
    "execution": {
     "iopub.execute_input": "2025-04-28T03:08:02.020064Z",
     "iopub.status.busy": "2025-04-28T03:08:02.019691Z",
     "iopub.status.idle": "2025-04-28T03:10:51.405610Z",
     "shell.execute_reply": "2025-04-28T03:10:51.404431Z"
    },
    "papermill": {
     "duration": 169.39314,
     "end_time": "2025-04-28T03:10:51.407593",
     "exception": false,
     "start_time": "2025-04-28T03:08:02.014453",
     "status": "completed"
    },
    "tags": []
   },
   "outputs": [],
   "source": [
    "y_pred = model.predict(test)"
   ]
  },
  {
   "cell_type": "code",
   "execution_count": 12,
   "id": "2a8b0b6a",
   "metadata": {
    "execution": {
     "iopub.execute_input": "2025-04-28T03:10:51.417095Z",
     "iopub.status.busy": "2025-04-28T03:10:51.415756Z",
     "iopub.status.idle": "2025-04-28T03:10:51.463754Z",
     "shell.execute_reply": "2025-04-28T03:10:51.462953Z"
    },
    "papermill": {
     "duration": 0.054022,
     "end_time": "2025-04-28T03:10:51.465403",
     "exception": false,
     "start_time": "2025-04-28T03:10:51.411381",
     "status": "completed"
    },
    "tags": []
   },
   "outputs": [],
   "source": [
    "submission = pd.read_csv(\"/kaggle/input/digit-recognizer/sample_submission.csv\")\n",
    "submission['Label'] = y_pred\n",
    "submission.to_csv('submission.csv', index=False)"
   ]
  },
  {
   "cell_type": "code",
   "execution_count": 13,
   "id": "a476274d",
   "metadata": {
    "execution": {
     "iopub.execute_input": "2025-04-28T03:10:51.473490Z",
     "iopub.status.busy": "2025-04-28T03:10:51.472969Z",
     "iopub.status.idle": "2025-04-28T03:10:51.494055Z",
     "shell.execute_reply": "2025-04-28T03:10:51.493130Z"
    },
    "papermill": {
     "duration": 0.027103,
     "end_time": "2025-04-28T03:10:51.495714",
     "exception": false,
     "start_time": "2025-04-28T03:10:51.468611",
     "status": "completed"
    },
    "tags": []
   },
   "outputs": [
    {
     "data": {
      "text/html": [
       "<div>\n",
       "<style scoped>\n",
       "    .dataframe tbody tr th:only-of-type {\n",
       "        vertical-align: middle;\n",
       "    }\n",
       "\n",
       "    .dataframe tbody tr th {\n",
       "        vertical-align: top;\n",
       "    }\n",
       "\n",
       "    .dataframe thead th {\n",
       "        text-align: right;\n",
       "    }\n",
       "</style>\n",
       "<table border=\"1\" class=\"dataframe\">\n",
       "  <thead>\n",
       "    <tr style=\"text-align: right;\">\n",
       "      <th></th>\n",
       "      <th>ImageId</th>\n",
       "      <th>Label</th>\n",
       "    </tr>\n",
       "  </thead>\n",
       "  <tbody>\n",
       "    <tr>\n",
       "      <th>0</th>\n",
       "      <td>1</td>\n",
       "      <td>2</td>\n",
       "    </tr>\n",
       "    <tr>\n",
       "      <th>1</th>\n",
       "      <td>2</td>\n",
       "      <td>0</td>\n",
       "    </tr>\n",
       "    <tr>\n",
       "      <th>2</th>\n",
       "      <td>3</td>\n",
       "      <td>9</td>\n",
       "    </tr>\n",
       "    <tr>\n",
       "      <th>3</th>\n",
       "      <td>4</td>\n",
       "      <td>0</td>\n",
       "    </tr>\n",
       "    <tr>\n",
       "      <th>4</th>\n",
       "      <td>5</td>\n",
       "      <td>3</td>\n",
       "    </tr>\n",
       "    <tr>\n",
       "      <th>...</th>\n",
       "      <td>...</td>\n",
       "      <td>...</td>\n",
       "    </tr>\n",
       "    <tr>\n",
       "      <th>27995</th>\n",
       "      <td>27996</td>\n",
       "      <td>9</td>\n",
       "    </tr>\n",
       "    <tr>\n",
       "      <th>27996</th>\n",
       "      <td>27997</td>\n",
       "      <td>7</td>\n",
       "    </tr>\n",
       "    <tr>\n",
       "      <th>27997</th>\n",
       "      <td>27998</td>\n",
       "      <td>3</td>\n",
       "    </tr>\n",
       "    <tr>\n",
       "      <th>27998</th>\n",
       "      <td>27999</td>\n",
       "      <td>9</td>\n",
       "    </tr>\n",
       "    <tr>\n",
       "      <th>27999</th>\n",
       "      <td>28000</td>\n",
       "      <td>2</td>\n",
       "    </tr>\n",
       "  </tbody>\n",
       "</table>\n",
       "<p>28000 rows × 2 columns</p>\n",
       "</div>"
      ],
      "text/plain": [
       "       ImageId  Label\n",
       "0            1      2\n",
       "1            2      0\n",
       "2            3      9\n",
       "3            4      0\n",
       "4            5      3\n",
       "...        ...    ...\n",
       "27995    27996      9\n",
       "27996    27997      7\n",
       "27997    27998      3\n",
       "27998    27999      9\n",
       "27999    28000      2\n",
       "\n",
       "[28000 rows x 2 columns]"
      ]
     },
     "execution_count": 13,
     "metadata": {},
     "output_type": "execute_result"
    }
   ],
   "source": [
    "submission"
   ]
  }
 ],
 "metadata": {
  "kaggle": {
   "accelerator": "none",
   "dataSources": [
    {
     "databundleVersionId": 861823,
     "sourceId": 3004,
     "sourceType": "competition"
    },
    {
     "datasetId": 27352,
     "sourceId": 34877,
     "sourceType": "datasetVersion"
    },
    {
     "datasetId": 7270390,
     "sourceId": 11593998,
     "sourceType": "datasetVersion"
    }
   ],
   "dockerImageVersionId": 31012,
   "isGpuEnabled": false,
   "isInternetEnabled": true,
   "language": "python",
   "sourceType": "notebook"
  },
  "kernelspec": {
   "display_name": "Python 3",
   "language": "python",
   "name": "python3"
  },
  "language_info": {
   "codemirror_mode": {
    "name": "ipython",
    "version": 3
   },
   "file_extension": ".py",
   "mimetype": "text/x-python",
   "name": "python",
   "nbconvert_exporter": "python",
   "pygments_lexer": "ipython3",
   "version": "3.11.11"
  },
  "papermill": {
   "default_parameters": {},
   "duration": 193.584532,
   "end_time": "2025-04-28T03:10:52.422558",
   "environment_variables": {},
   "exception": null,
   "input_path": "__notebook__.ipynb",
   "output_path": "__notebook__.ipynb",
   "parameters": {},
   "start_time": "2025-04-28T03:07:38.838026",
   "version": "2.6.0"
  }
 },
 "nbformat": 4,
 "nbformat_minor": 5
}
