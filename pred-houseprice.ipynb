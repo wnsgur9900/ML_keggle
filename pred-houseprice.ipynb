{
 "cells": [
  {
   "cell_type": "code",
   "execution_count": 1,
   "id": "fe1a61b1",
   "metadata": {
    "_cell_guid": "b1076dfc-b9ad-4769-8c92-a6c4dae69d19",
    "_uuid": "8f2839f25d086af736a60e9eeb907d3b93b6e0e5",
    "execution": {
     "iopub.execute_input": "2025-04-25T01:27:47.541902Z",
     "iopub.status.busy": "2025-04-25T01:27:47.541015Z",
     "iopub.status.idle": "2025-04-25T01:27:49.491081Z",
     "shell.execute_reply": "2025-04-25T01:27:49.489549Z"
    },
    "papermill": {
     "duration": 1.95707,
     "end_time": "2025-04-25T01:27:49.492954",
     "exception": false,
     "start_time": "2025-04-25T01:27:47.535884",
     "status": "completed"
    },
    "tags": []
   },
   "outputs": [
    {
     "name": "stdout",
     "output_type": "stream",
     "text": [
      "/kaggle/input/house-prices-advanced-regression-techniques/sample_submission.csv\n",
      "/kaggle/input/house-prices-advanced-regression-techniques/data_description.txt\n",
      "/kaggle/input/house-prices-advanced-regression-techniques/train.csv\n",
      "/kaggle/input/house-prices-advanced-regression-techniques/test.csv\n"
     ]
    }
   ],
   "source": [
    "# This Python 3 environment comes with many helpful analytics libraries installed\n",
    "# It is defined by the kaggle/python Docker image: https://github.com/kaggle/docker-python\n",
    "# For example, here's several helpful packages to load\n",
    "\n",
    "import numpy as np # linear algebra\n",
    "import pandas as pd # data processing, CSV file I/O (e.g. pd.read_csv)\n",
    "\n",
    "# Input data files are available in the read-only \"../input/\" directory\n",
    "# For example, running this (by clicking run or pressing Shift+Enter) will list all files under the input directory\n",
    "\n",
    "import os\n",
    "for dirname, _, filenames in os.walk('/kaggle/input'):\n",
    "    for filename in filenames:\n",
    "        print(os.path.join(dirname, filename))\n",
    "\n",
    "# You can write up to 20GB to the current directory (/kaggle/working/) that gets preserved as output when you create a version using \"Save & Run All\" \n",
    "# You can also write temporary files to /kaggle/temp/, but they won't be saved outside of the current session"
   ]
  },
  {
   "cell_type": "code",
   "execution_count": 2,
   "id": "55848ed2",
   "metadata": {
    "execution": {
     "iopub.execute_input": "2025-04-25T01:27:49.501516Z",
     "iopub.status.busy": "2025-04-25T01:27:49.500514Z",
     "iopub.status.idle": "2025-04-25T01:27:49.575156Z",
     "shell.execute_reply": "2025-04-25T01:27:49.574280Z"
    },
    "papermill": {
     "duration": 0.080335,
     "end_time": "2025-04-25T01:27:49.576877",
     "exception": false,
     "start_time": "2025-04-25T01:27:49.496542",
     "status": "completed"
    },
    "tags": []
   },
   "outputs": [],
   "source": [
    "df_train = pd.read_csv('/kaggle/input/house-prices-advanced-regression-techniques/train.csv')\n",
    "df_test = pd.read_csv('/kaggle/input/house-prices-advanced-regression-techniques/test.csv')"
   ]
  },
  {
   "cell_type": "code",
   "execution_count": 3,
   "id": "31705442",
   "metadata": {
    "execution": {
     "iopub.execute_input": "2025-04-25T01:27:49.583877Z",
     "iopub.status.busy": "2025-04-25T01:27:49.583573Z",
     "iopub.status.idle": "2025-04-25T01:27:49.589043Z",
     "shell.execute_reply": "2025-04-25T01:27:49.588001Z"
    },
    "papermill": {
     "duration": 0.011005,
     "end_time": "2025-04-25T01:27:49.590824",
     "exception": false,
     "start_time": "2025-04-25T01:27:49.579819",
     "status": "completed"
    },
    "tags": []
   },
   "outputs": [
    {
     "name": "stdout",
     "output_type": "stream",
     "text": [
      "1459\n",
      "1460\n"
     ]
    }
   ],
   "source": [
    "print(len(df_test))\n",
    "print(len(df_train))"
   ]
  },
  {
   "cell_type": "code",
   "execution_count": 4,
   "id": "b49d956a",
   "metadata": {
    "execution": {
     "iopub.execute_input": "2025-04-25T01:27:49.597963Z",
     "iopub.status.busy": "2025-04-25T01:27:49.597616Z",
     "iopub.status.idle": "2025-04-25T01:27:49.616894Z",
     "shell.execute_reply": "2025-04-25T01:27:49.615865Z"
    },
    "papermill": {
     "duration": 0.02481,
     "end_time": "2025-04-25T01:27:49.618583",
     "exception": false,
     "start_time": "2025-04-25T01:27:49.593773",
     "status": "completed"
    },
    "tags": []
   },
   "outputs": [
    {
     "data": {
      "text/plain": [
       "LotFrontage    259\n",
       "LotArea          0\n",
       "GrLivArea        0\n",
       "dtype: int64"
      ]
     },
     "execution_count": 4,
     "metadata": {},
     "output_type": "execute_result"
    }
   ],
   "source": [
    "cols = [\"LotFrontage\", \"LotArea\", \"GrLivArea\"]\n",
    "X = df_train[cols]\n",
    "X.isnull().sum()"
   ]
  },
  {
   "cell_type": "code",
   "execution_count": 5,
   "id": "7d9f84db",
   "metadata": {
    "execution": {
     "iopub.execute_input": "2025-04-25T01:27:49.625761Z",
     "iopub.status.busy": "2025-04-25T01:27:49.625459Z",
     "iopub.status.idle": "2025-04-25T01:27:49.633016Z",
     "shell.execute_reply": "2025-04-25T01:27:49.632078Z"
    },
    "papermill": {
     "duration": 0.01306,
     "end_time": "2025-04-25T01:27:49.634653",
     "exception": false,
     "start_time": "2025-04-25T01:27:49.621593",
     "status": "completed"
    },
    "tags": []
   },
   "outputs": [
    {
     "data": {
      "text/plain": [
       "0       208500\n",
       "1       181500\n",
       "2       223500\n",
       "3       140000\n",
       "4       250000\n",
       "         ...  \n",
       "1455    175000\n",
       "1456    210000\n",
       "1457    266500\n",
       "1458    142125\n",
       "1459    147500\n",
       "Name: SalePrice, Length: 1460, dtype: int64"
      ]
     },
     "execution_count": 5,
     "metadata": {},
     "output_type": "execute_result"
    }
   ],
   "source": [
    "y = df_train.iloc[:,-1]\n",
    "y"
   ]
  },
  {
   "cell_type": "code",
   "execution_count": 6,
   "id": "b7d9c531",
   "metadata": {
    "execution": {
     "iopub.execute_input": "2025-04-25T01:27:49.642108Z",
     "iopub.status.busy": "2025-04-25T01:27:49.641786Z",
     "iopub.status.idle": "2025-04-25T01:27:49.647136Z",
     "shell.execute_reply": "2025-04-25T01:27:49.646300Z"
    },
    "papermill": {
     "duration": 0.010897,
     "end_time": "2025-04-25T01:27:49.648603",
     "exception": false,
     "start_time": "2025-04-25T01:27:49.637706",
     "status": "completed"
    },
    "tags": []
   },
   "outputs": [],
   "source": [
    "X = X.fillna(0)"
   ]
  },
  {
   "cell_type": "code",
   "execution_count": 7,
   "id": "7b97e062",
   "metadata": {
    "execution": {
     "iopub.execute_input": "2025-04-25T01:27:49.657132Z",
     "iopub.status.busy": "2025-04-25T01:27:49.656822Z",
     "iopub.status.idle": "2025-04-25T01:27:51.368069Z",
     "shell.execute_reply": "2025-04-25T01:27:51.367014Z"
    },
    "papermill": {
     "duration": 1.716907,
     "end_time": "2025-04-25T01:27:51.369857",
     "exception": false,
     "start_time": "2025-04-25T01:27:49.652950",
     "status": "completed"
    },
    "tags": []
   },
   "outputs": [],
   "source": [
    "from sklearn.linear_model import LinearRegression"
   ]
  },
  {
   "cell_type": "code",
   "execution_count": 8,
   "id": "babc9038",
   "metadata": {
    "execution": {
     "iopub.execute_input": "2025-04-25T01:27:51.377391Z",
     "iopub.status.busy": "2025-04-25T01:27:51.376915Z",
     "iopub.status.idle": "2025-04-25T01:27:51.383486Z",
     "shell.execute_reply": "2025-04-25T01:27:51.382465Z"
    },
    "papermill": {
     "duration": 0.0123,
     "end_time": "2025-04-25T01:27:51.385345",
     "exception": false,
     "start_time": "2025-04-25T01:27:51.373045",
     "status": "completed"
    },
    "tags": []
   },
   "outputs": [],
   "source": [
    "X_test = df_test[['LotFrontage', 'LotArea', 'GrLivArea']]\n",
    "X_test = X_test.fillna(0)"
   ]
  },
  {
   "cell_type": "code",
   "execution_count": 9,
   "id": "2271b027",
   "metadata": {
    "execution": {
     "iopub.execute_input": "2025-04-25T01:27:51.392892Z",
     "iopub.status.busy": "2025-04-25T01:27:51.392523Z",
     "iopub.status.idle": "2025-04-25T01:27:51.425514Z",
     "shell.execute_reply": "2025-04-25T01:27:51.424609Z"
    },
    "papermill": {
     "duration": 0.038755,
     "end_time": "2025-04-25T01:27:51.427322",
     "exception": false,
     "start_time": "2025-04-25T01:27:51.388567",
     "status": "completed"
    },
    "tags": []
   },
   "outputs": [],
   "source": [
    "from sklearn.linear_model import LinearRegression\n",
    "\n",
    "model = LinearRegression()\n",
    "model.fit(X, y)\n",
    "\n",
    "y_pred = model.predict(X_test)"
   ]
  },
  {
   "cell_type": "code",
   "execution_count": 10,
   "id": "a442d10e",
   "metadata": {
    "execution": {
     "iopub.execute_input": "2025-04-25T01:27:51.434856Z",
     "iopub.status.busy": "2025-04-25T01:27:51.434504Z",
     "iopub.status.idle": "2025-04-25T01:27:51.440751Z",
     "shell.execute_reply": "2025-04-25T01:27:51.439825Z"
    },
    "papermill": {
     "duration": 0.011888,
     "end_time": "2025-04-25T01:27:51.442343",
     "exception": false,
     "start_time": "2025-04-25T01:27:51.430455",
     "status": "completed"
    },
    "tags": []
   },
   "outputs": [
    {
     "data": {
      "text/plain": [
       "array([121038.86858334, 167097.42990949, 196623.30122498, ...,\n",
       "       169573.51546591, 125671.30765352, 231826.65673714])"
      ]
     },
     "execution_count": 10,
     "metadata": {},
     "output_type": "execute_result"
    }
   ],
   "source": [
    "y_pred"
   ]
  },
  {
   "cell_type": "code",
   "execution_count": 11,
   "id": "8da84413",
   "metadata": {
    "execution": {
     "iopub.execute_input": "2025-04-25T01:27:51.449858Z",
     "iopub.status.busy": "2025-04-25T01:27:51.449535Z",
     "iopub.status.idle": "2025-04-25T01:27:51.465239Z",
     "shell.execute_reply": "2025-04-25T01:27:51.464349Z"
    },
    "papermill": {
     "duration": 0.021511,
     "end_time": "2025-04-25T01:27:51.467020",
     "exception": false,
     "start_time": "2025-04-25T01:27:51.445509",
     "status": "completed"
    },
    "tags": []
   },
   "outputs": [],
   "source": [
    "submission = pd.DataFrame({\n",
    "    'Id': df_test['Id'],       # test 데이터의 Id 컬럼 그대로 사용\n",
    "    'SalePrice': y_pred     # 예측한 결과\n",
    "})\n",
    "\n",
    "submission.to_csv(\"submission.csv\", index=False)"
   ]
  }
 ],
 "metadata": {
  "kaggle": {
   "accelerator": "none",
   "dataSources": [
    {
     "databundleVersionId": 868283,
     "sourceId": 5407,
     "sourceType": "competition"
    }
   ],
   "dockerImageVersionId": 31012,
   "isGpuEnabled": false,
   "isInternetEnabled": true,
   "language": "python",
   "sourceType": "notebook"
  },
  "kernelspec": {
   "display_name": "Python 3",
   "language": "python",
   "name": "python3"
  },
  "language_info": {
   "codemirror_mode": {
    "name": "ipython",
    "version": 3
   },
   "file_extension": ".py",
   "mimetype": "text/x-python",
   "name": "python",
   "nbconvert_exporter": "python",
   "pygments_lexer": "ipython3",
   "version": "3.11.11"
  },
  "papermill": {
   "default_parameters": {},
   "duration": 10.342628,
   "end_time": "2025-04-25T01:27:52.191674",
   "environment_variables": {},
   "exception": null,
   "input_path": "__notebook__.ipynb",
   "output_path": "__notebook__.ipynb",
   "parameters": {},
   "start_time": "2025-04-25T01:27:41.849046",
   "version": "2.6.0"
  }
 },
 "nbformat": 4,
 "nbformat_minor": 5
}
