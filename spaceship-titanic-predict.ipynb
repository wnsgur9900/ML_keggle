{
 "cells": [
  {
   "cell_type": "code",
   "execution_count": 1,
   "id": "261a338a",
   "metadata": {
    "_cell_guid": "b1076dfc-b9ad-4769-8c92-a6c4dae69d19",
    "_uuid": "8f2839f25d086af736a60e9eeb907d3b93b6e0e5",
    "execution": {
     "iopub.execute_input": "2025-05-06T08:58:34.363706Z",
     "iopub.status.busy": "2025-05-06T08:58:34.363355Z",
     "iopub.status.idle": "2025-05-06T08:58:36.180474Z",
     "shell.execute_reply": "2025-05-06T08:58:36.179361Z"
    },
    "papermill": {
     "duration": 1.823416,
     "end_time": "2025-05-06T08:58:36.182137",
     "exception": false,
     "start_time": "2025-05-06T08:58:34.358721",
     "status": "completed"
    },
    "tags": []
   },
   "outputs": [
    {
     "name": "stdout",
     "output_type": "stream",
     "text": [
      "/kaggle/input/spaceship-titanic/sample_submission.csv\n",
      "/kaggle/input/spaceship-titanic/train.csv\n",
      "/kaggle/input/spaceship-titanic/test.csv\n"
     ]
    }
   ],
   "source": [
    "# This Python 3 environment comes with many helpful analytics libraries installed\n",
    "# It is defined by the kaggle/python Docker image: https://github.com/kaggle/docker-python\n",
    "# For example, here's several helpful packages to load\n",
    "\n",
    "import numpy as np # linear algebra\n",
    "import pandas as pd # data processing, CSV file I/O (e.g. pd.read_csv)\n",
    "\n",
    "# Input data files are available in the read-only \"../input/\" directory\n",
    "# For example, running this (by clicking run or pressing Shift+Enter) will list all files under the input directory\n",
    "\n",
    "import os\n",
    "for dirname, _, filenames in os.walk('/kaggle/input'):\n",
    "    for filename in filenames:\n",
    "        print(os.path.join(dirname, filename))\n",
    "\n",
    "# You can write up to 20GB to the current directory (/kaggle/working/) that gets preserved as output when you create a version using \"Save & Run All\" \n",
    "# You can also write temporary files to /kaggle/temp/, but they won't be saved outside of the current session"
   ]
  },
  {
   "cell_type": "code",
   "execution_count": 2,
   "id": "b7ea463b",
   "metadata": {
    "execution": {
     "iopub.execute_input": "2025-05-06T08:58:36.190541Z",
     "iopub.status.busy": "2025-05-06T08:58:36.189779Z",
     "iopub.status.idle": "2025-05-06T08:58:36.302378Z",
     "shell.execute_reply": "2025-05-06T08:58:36.301139Z"
    },
    "papermill": {
     "duration": 0.118635,
     "end_time": "2025-05-06T08:58:36.304219",
     "exception": false,
     "start_time": "2025-05-06T08:58:36.185584",
     "status": "completed"
    },
    "tags": []
   },
   "outputs": [],
   "source": [
    "train = pd.read_csv(\"/kaggle/input/spaceship-titanic/train.csv\")\n",
    "test = pd.read_csv(\"/kaggle/input/spaceship-titanic/test.csv\")\n",
    "submission = pd.read_csv(\"/kaggle/input/spaceship-titanic/sample_submission.csv\")"
   ]
  },
  {
   "cell_type": "code",
   "execution_count": 3,
   "id": "f96912f4",
   "metadata": {
    "execution": {
     "iopub.execute_input": "2025-05-06T08:58:36.311684Z",
     "iopub.status.busy": "2025-05-06T08:58:36.311279Z",
     "iopub.status.idle": "2025-05-06T08:58:36.328302Z",
     "shell.execute_reply": "2025-05-06T08:58:36.327360Z"
    },
    "papermill": {
     "duration": 0.022677,
     "end_time": "2025-05-06T08:58:36.330109",
     "exception": false,
     "start_time": "2025-05-06T08:58:36.307432",
     "status": "completed"
    },
    "tags": []
   },
   "outputs": [],
   "source": [
    "cols = [\"PassengerId\",\"Name\",\"Transported\"]\n",
    "X_train = train.drop(columns = cols)\n",
    "y_train = train[\"Transported\"]\n",
    "\n",
    "X_test = test.drop(columns = [\"PassengerId\",\"Name\"])"
   ]
  },
  {
   "cell_type": "code",
   "execution_count": 4,
   "id": "ed70daba",
   "metadata": {
    "execution": {
     "iopub.execute_input": "2025-05-06T08:58:36.337969Z",
     "iopub.status.busy": "2025-05-06T08:58:36.337003Z",
     "iopub.status.idle": "2025-05-06T08:58:36.356959Z",
     "shell.execute_reply": "2025-05-06T08:58:36.356029Z"
    },
    "papermill": {
     "duration": 0.025376,
     "end_time": "2025-05-06T08:58:36.358583",
     "exception": false,
     "start_time": "2025-05-06T08:58:36.333207",
     "status": "completed"
    },
    "tags": []
   },
   "outputs": [],
   "source": [
    "fill_cols = [\"HomePlanet\", \"CryoSleep\", \"Cabin\", \"Destination\", 'VIP',\n",
    "       'RoomService', 'FoodCourt', 'ShoppingMall', 'Spa', 'VRDeck']\n",
    "X_train[fill_cols]=X_train[fill_cols].fillna(\"Missing\")\n",
    "X_train[\"Age\"] = X_train[\"Age\"].fillna(X_train[\"Age\"].mean())"
   ]
  },
  {
   "cell_type": "code",
   "execution_count": 5,
   "id": "6dcbfb97",
   "metadata": {
    "execution": {
     "iopub.execute_input": "2025-05-06T08:58:36.365635Z",
     "iopub.status.busy": "2025-05-06T08:58:36.365283Z",
     "iopub.status.idle": "2025-05-06T08:58:36.380017Z",
     "shell.execute_reply": "2025-05-06T08:58:36.379087Z"
    },
    "papermill": {
     "duration": 0.020081,
     "end_time": "2025-05-06T08:58:36.381691",
     "exception": false,
     "start_time": "2025-05-06T08:58:36.361610",
     "status": "completed"
    },
    "tags": []
   },
   "outputs": [],
   "source": [
    "X_test[fill_cols]=X_test[fill_cols].fillna(\"Missing\")\n",
    "X_test[\"Age\"] = X_test[\"Age\"].fillna(X_test[\"Age\"].mean())"
   ]
  },
  {
   "cell_type": "code",
   "execution_count": 6,
   "id": "a907e1ae",
   "metadata": {
    "execution": {
     "iopub.execute_input": "2025-05-06T08:58:36.389851Z",
     "iopub.status.busy": "2025-05-06T08:58:36.389503Z",
     "iopub.status.idle": "2025-05-06T08:58:36.646436Z",
     "shell.execute_reply": "2025-05-06T08:58:36.645517Z"
    },
    "papermill": {
     "duration": 0.26351,
     "end_time": "2025-05-06T08:58:36.648177",
     "exception": false,
     "start_time": "2025-05-06T08:58:36.384667",
     "status": "completed"
    },
    "tags": []
   },
   "outputs": [],
   "source": [
    "cat_cols = X_train.select_dtypes(include='object').columns.tolist()\n",
    "\n",
    "X = pd.get_dummies(X_train, columns=cat_cols)\n",
    "X_test = pd.get_dummies(X_test, columns=cat_cols)"
   ]
  },
  {
   "cell_type": "code",
   "execution_count": 7,
   "id": "9c93597c",
   "metadata": {
    "execution": {
     "iopub.execute_input": "2025-05-06T08:58:36.658964Z",
     "iopub.status.busy": "2025-05-06T08:58:36.658555Z",
     "iopub.status.idle": "2025-05-06T08:58:36.794238Z",
     "shell.execute_reply": "2025-05-06T08:58:36.793322Z"
    },
    "papermill": {
     "duration": 0.142667,
     "end_time": "2025-05-06T08:58:36.795933",
     "exception": false,
     "start_time": "2025-05-06T08:58:36.653266",
     "status": "completed"
    },
    "tags": []
   },
   "outputs": [],
   "source": [
    "X_test = X_test.reindex(columns=X.columns, fill_value=0)"
   ]
  },
  {
   "cell_type": "code",
   "execution_count": 8,
   "id": "adcf4879",
   "metadata": {
    "execution": {
     "iopub.execute_input": "2025-05-06T08:58:36.803555Z",
     "iopub.status.busy": "2025-05-06T08:58:36.802731Z",
     "iopub.status.idle": "2025-05-06T08:58:38.816854Z",
     "shell.execute_reply": "2025-05-06T08:58:38.816052Z"
    },
    "papermill": {
     "duration": 2.019637,
     "end_time": "2025-05-06T08:58:38.818510",
     "exception": false,
     "start_time": "2025-05-06T08:58:36.798873",
     "status": "completed"
    },
    "tags": []
   },
   "outputs": [],
   "source": [
    "from sklearn.ensemble import RandomForestRegressor\n",
    "\n",
    "model = RandomForestRegressor(\n",
    "    n_estimators=100,  # 트리 개수\n",
    "    max_depth=10,      # 트리 최대 깊이\n",
    "    random_state=42    # 랜덤 고정 (결과 재현 가능하게)\n",
    ")"
   ]
  },
  {
   "cell_type": "code",
   "execution_count": 9,
   "id": "5ccc13fa",
   "metadata": {
    "execution": {
     "iopub.execute_input": "2025-05-06T08:58:38.826118Z",
     "iopub.status.busy": "2025-05-06T08:58:38.825642Z",
     "iopub.status.idle": "2025-05-06T09:00:41.489522Z",
     "shell.execute_reply": "2025-05-06T09:00:41.488653Z"
    },
    "papermill": {
     "duration": 122.672488,
     "end_time": "2025-05-06T09:00:41.494212",
     "exception": false,
     "start_time": "2025-05-06T08:58:38.821724",
     "status": "completed"
    },
    "tags": []
   },
   "outputs": [
    {
     "data": {
      "text/html": [
       "<style>#sk-container-id-1 {color: black;background-color: white;}#sk-container-id-1 pre{padding: 0;}#sk-container-id-1 div.sk-toggleable {background-color: white;}#sk-container-id-1 label.sk-toggleable__label {cursor: pointer;display: block;width: 100%;margin-bottom: 0;padding: 0.3em;box-sizing: border-box;text-align: center;}#sk-container-id-1 label.sk-toggleable__label-arrow:before {content: \"▸\";float: left;margin-right: 0.25em;color: #696969;}#sk-container-id-1 label.sk-toggleable__label-arrow:hover:before {color: black;}#sk-container-id-1 div.sk-estimator:hover label.sk-toggleable__label-arrow:before {color: black;}#sk-container-id-1 div.sk-toggleable__content {max-height: 0;max-width: 0;overflow: hidden;text-align: left;background-color: #f0f8ff;}#sk-container-id-1 div.sk-toggleable__content pre {margin: 0.2em;color: black;border-radius: 0.25em;background-color: #f0f8ff;}#sk-container-id-1 input.sk-toggleable__control:checked~div.sk-toggleable__content {max-height: 200px;max-width: 100%;overflow: auto;}#sk-container-id-1 input.sk-toggleable__control:checked~label.sk-toggleable__label-arrow:before {content: \"▾\";}#sk-container-id-1 div.sk-estimator input.sk-toggleable__control:checked~label.sk-toggleable__label {background-color: #d4ebff;}#sk-container-id-1 div.sk-label input.sk-toggleable__control:checked~label.sk-toggleable__label {background-color: #d4ebff;}#sk-container-id-1 input.sk-hidden--visually {border: 0;clip: rect(1px 1px 1px 1px);clip: rect(1px, 1px, 1px, 1px);height: 1px;margin: -1px;overflow: hidden;padding: 0;position: absolute;width: 1px;}#sk-container-id-1 div.sk-estimator {font-family: monospace;background-color: #f0f8ff;border: 1px dotted black;border-radius: 0.25em;box-sizing: border-box;margin-bottom: 0.5em;}#sk-container-id-1 div.sk-estimator:hover {background-color: #d4ebff;}#sk-container-id-1 div.sk-parallel-item::after {content: \"\";width: 100%;border-bottom: 1px solid gray;flex-grow: 1;}#sk-container-id-1 div.sk-label:hover label.sk-toggleable__label {background-color: #d4ebff;}#sk-container-id-1 div.sk-serial::before {content: \"\";position: absolute;border-left: 1px solid gray;box-sizing: border-box;top: 0;bottom: 0;left: 50%;z-index: 0;}#sk-container-id-1 div.sk-serial {display: flex;flex-direction: column;align-items: center;background-color: white;padding-right: 0.2em;padding-left: 0.2em;position: relative;}#sk-container-id-1 div.sk-item {position: relative;z-index: 1;}#sk-container-id-1 div.sk-parallel {display: flex;align-items: stretch;justify-content: center;background-color: white;position: relative;}#sk-container-id-1 div.sk-item::before, #sk-container-id-1 div.sk-parallel-item::before {content: \"\";position: absolute;border-left: 1px solid gray;box-sizing: border-box;top: 0;bottom: 0;left: 50%;z-index: -1;}#sk-container-id-1 div.sk-parallel-item {display: flex;flex-direction: column;z-index: 1;position: relative;background-color: white;}#sk-container-id-1 div.sk-parallel-item:first-child::after {align-self: flex-end;width: 50%;}#sk-container-id-1 div.sk-parallel-item:last-child::after {align-self: flex-start;width: 50%;}#sk-container-id-1 div.sk-parallel-item:only-child::after {width: 0;}#sk-container-id-1 div.sk-dashed-wrapped {border: 1px dashed gray;margin: 0 0.4em 0.5em 0.4em;box-sizing: border-box;padding-bottom: 0.4em;background-color: white;}#sk-container-id-1 div.sk-label label {font-family: monospace;font-weight: bold;display: inline-block;line-height: 1.2em;}#sk-container-id-1 div.sk-label-container {text-align: center;}#sk-container-id-1 div.sk-container {/* jupyter's `normalize.less` sets `[hidden] { display: none; }` but bootstrap.min.css set `[hidden] { display: none !important; }` so we also need the `!important` here to be able to override the default hidden behavior on the sphinx rendered scikit-learn.org. See: https://github.com/scikit-learn/scikit-learn/issues/21755 */display: inline-block !important;position: relative;}#sk-container-id-1 div.sk-text-repr-fallback {display: none;}</style><div id=\"sk-container-id-1\" class=\"sk-top-container\"><div class=\"sk-text-repr-fallback\"><pre>RandomForestRegressor(max_depth=10, random_state=42)</pre><b>In a Jupyter environment, please rerun this cell to show the HTML representation or trust the notebook. <br />On GitHub, the HTML representation is unable to render, please try loading this page with nbviewer.org.</b></div><div class=\"sk-container\" hidden><div class=\"sk-item\"><div class=\"sk-estimator sk-toggleable\"><input class=\"sk-toggleable__control sk-hidden--visually\" id=\"sk-estimator-id-1\" type=\"checkbox\" checked><label for=\"sk-estimator-id-1\" class=\"sk-toggleable__label sk-toggleable__label-arrow\">RandomForestRegressor</label><div class=\"sk-toggleable__content\"><pre>RandomForestRegressor(max_depth=10, random_state=42)</pre></div></div></div></div></div>"
      ],
      "text/plain": [
       "RandomForestRegressor(max_depth=10, random_state=42)"
      ]
     },
     "execution_count": 9,
     "metadata": {},
     "output_type": "execute_result"
    }
   ],
   "source": [
    "model.fit(X,y_train)"
   ]
  },
  {
   "cell_type": "code",
   "execution_count": 10,
   "id": "a583525a",
   "metadata": {
    "execution": {
     "iopub.execute_input": "2025-05-06T09:00:41.501530Z",
     "iopub.status.busy": "2025-05-06T09:00:41.501222Z",
     "iopub.status.idle": "2025-05-06T09:00:41.808833Z",
     "shell.execute_reply": "2025-05-06T09:00:41.808003Z"
    },
    "papermill": {
     "duration": 0.31313,
     "end_time": "2025-05-06T09:00:41.810420",
     "exception": false,
     "start_time": "2025-05-06T09:00:41.497290",
     "status": "completed"
    },
    "tags": []
   },
   "outputs": [],
   "source": [
    "prediction = model.predict(X_test)"
   ]
  },
  {
   "cell_type": "code",
   "execution_count": 11,
   "id": "96b77a76",
   "metadata": {
    "execution": {
     "iopub.execute_input": "2025-05-06T09:00:41.818266Z",
     "iopub.status.busy": "2025-05-06T09:00:41.817835Z",
     "iopub.status.idle": "2025-05-06T09:00:41.824600Z",
     "shell.execute_reply": "2025-05-06T09:00:41.823803Z"
    },
    "papermill": {
     "duration": 0.012591,
     "end_time": "2025-05-06T09:00:41.826261",
     "exception": false,
     "start_time": "2025-05-06T09:00:41.813670",
     "status": "completed"
    },
    "tags": []
   },
   "outputs": [],
   "source": [
    "preds = (prediction >= 0.5).astype(str)"
   ]
  },
  {
   "cell_type": "code",
   "execution_count": 12,
   "id": "fef2823f",
   "metadata": {
    "execution": {
     "iopub.execute_input": "2025-05-06T09:00:41.833428Z",
     "iopub.status.busy": "2025-05-06T09:00:41.833125Z",
     "iopub.status.idle": "2025-05-06T09:00:41.838535Z",
     "shell.execute_reply": "2025-05-06T09:00:41.837837Z"
    },
    "papermill": {
     "duration": 0.010711,
     "end_time": "2025-05-06T09:00:41.840040",
     "exception": false,
     "start_time": "2025-05-06T09:00:41.829329",
     "status": "completed"
    },
    "tags": []
   },
   "outputs": [],
   "source": [
    "submission[\"Transported\"] = preds"
   ]
  },
  {
   "cell_type": "code",
   "execution_count": 13,
   "id": "399a474a",
   "metadata": {
    "execution": {
     "iopub.execute_input": "2025-05-06T09:00:41.847463Z",
     "iopub.status.busy": "2025-05-06T09:00:41.847146Z",
     "iopub.status.idle": "2025-05-06T09:00:41.860572Z",
     "shell.execute_reply": "2025-05-06T09:00:41.859828Z"
    },
    "papermill": {
     "duration": 0.019072,
     "end_time": "2025-05-06T09:00:41.862217",
     "exception": false,
     "start_time": "2025-05-06T09:00:41.843145",
     "status": "completed"
    },
    "tags": []
   },
   "outputs": [],
   "source": [
    "submission.to_csv('submission.csv', index=False)"
   ]
  }
 ],
 "metadata": {
  "kaggle": {
   "accelerator": "none",
   "dataSources": [
    {
     "databundleVersionId": 3220602,
     "sourceId": 34377,
     "sourceType": "competition"
    }
   ],
   "dockerImageVersionId": 31012,
   "isGpuEnabled": false,
   "isInternetEnabled": true,
   "language": "python",
   "sourceType": "notebook"
  },
  "kernelspec": {
   "display_name": "Python 3",
   "language": "python",
   "name": "python3"
  },
  "language_info": {
   "codemirror_mode": {
    "name": "ipython",
    "version": 3
   },
   "file_extension": ".py",
   "mimetype": "text/x-python",
   "name": "python",
   "nbconvert_exporter": "python",
   "pygments_lexer": "ipython3",
   "version": "3.11.11"
  },
  "papermill": {
   "default_parameters": {},
   "duration": 132.860802,
   "end_time": "2025-05-06T09:00:42.586188",
   "environment_variables": {},
   "exception": null,
   "input_path": "__notebook__.ipynb",
   "output_path": "__notebook__.ipynb",
   "parameters": {},
   "start_time": "2025-05-06T08:58:29.725386",
   "version": "2.6.0"
  }
 },
 "nbformat": 4,
 "nbformat_minor": 5
}
